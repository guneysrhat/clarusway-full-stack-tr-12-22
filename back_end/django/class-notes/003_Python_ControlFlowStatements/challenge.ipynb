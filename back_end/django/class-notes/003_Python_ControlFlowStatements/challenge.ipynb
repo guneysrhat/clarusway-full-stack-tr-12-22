{
 "cells": [
  {
   "cell_type": "code",
   "execution_count": 6,
   "metadata": {},
   "outputs": [
    {
     "name": "stdout",
     "output_type": "stream",
     "text": [
      "You have 2 chance to write the correct secret word!\n",
      "You have 1 chance to write the correct secret word!\n",
      "Sorry, you can not find the secret word!\n"
     ]
    }
   ],
   "source": [
    "# Challenge:\n",
    "# Given the example of while loop in live session;\n",
    "# Limit the number of inputs to 3\n",
    "# Print a message to indicate remaining attempts\n",
    "# Warn at the last incorrect attempt\n",
    "\n",
    "secret = 'swordfish'\n",
    "pw = ''\n",
    "\n",
    "count = 3\n",
    "while pw != secret and count > 0:\n",
    "    pw = input(\"What's the secret word? \")\n",
    "    count -= 1\n",
    "    if count > 0:\n",
    "        print(f'You have {count} chance to write the correct secret word!')\n",
    "    else:\n",
    "        print('Sorry, you can not find the secret word!')"
   ]
  },
  {
   "cell_type": "code",
   "execution_count": null,
   "metadata": {},
   "outputs": [],
   "source": []
  }
 ],
 "metadata": {
  "kernelspec": {
   "display_name": "Python 3",
   "language": "python",
   "name": "python3"
  },
  "language_info": {
   "codemirror_mode": {
    "name": "ipython",
    "version": 3
   },
   "file_extension": ".py",
   "mimetype": "text/x-python",
   "name": "python",
   "nbconvert_exporter": "python",
   "pygments_lexer": "ipython3",
   "version": "3.10.5"
  },
  "orig_nbformat": 4
 },
 "nbformat": 4,
 "nbformat_minor": 2
}
