{
 "cells": [
  {
   "attachments": {},
   "cell_type": "markdown",
   "metadata": {},
   "source": [
    "#### Exception Handling"
   ]
  },
  {
   "cell_type": "markdown",
   "metadata": {
    "vscode": {
     "languageId": "plaintext"
    }
   },
   "source": [
    "Beden kitle indexini hesaplayan bir fonksiyon yaziniz.\n",
    "\n",
    "2 arguman aliyor, boy, kilo\n",
    "\n",
    "fonksiyon boy ve kilo ile calistiginda beden kitle indexini verecek\n",
    "\n",
    "mesaj vericek, uyari ya da tebrikler"
   ]
  },
  {
   "cell_type": "code",
   "execution_count": 1,
   "metadata": {},
   "outputs": [
    {
     "ename": "ZeroDivisionError",
     "evalue": "division by zero",
     "output_type": "error",
     "traceback": [
      "\u001b[1;31m---------------------------------------------------------------------------\u001b[0m",
      "\u001b[1;31mZeroDivisionError\u001b[0m                         Traceback (most recent call last)",
      "\u001b[1;32mc:\\Users\\stefa\\Documents\\clarusway-full-stack-tr-13-22\\django\\class-notes\\005_Python_Exception_Handling_Decorators_Libraries,_pip\\lesson5.ipynb Cell 3\u001b[0m in \u001b[0;36m<cell line: 1>\u001b[1;34m()\u001b[0m\n\u001b[1;32m----> <a href='vscode-notebook-cell:/c%3A/Users/stefa/Documents/clarusway-full-stack-tr-13-22/django/class-notes/005_Python_Exception_Handling_Decorators_Libraries%2C_pip/lesson5.ipynb#W4sZmlsZQ%3D%3D?line=0'>1</a>\u001b[0m \u001b[39m5\u001b[39;49m \u001b[39m/\u001b[39;49m \u001b[39m0\u001b[39;49m\n",
      "\u001b[1;31mZeroDivisionError\u001b[0m: division by zero"
     ]
    }
   ],
   "source": [
    "5 / 0"
   ]
  },
  {
   "cell_type": "code",
   "execution_count": 17,
   "metadata": {},
   "outputs": [
    {
     "name": "stdout",
     "output_type": "stream",
     "text": [
      "Sifir ile bolme mumkun degil!\n",
      "division by zero\n",
      "<class 'ZeroDivisionError'>\n"
     ]
    }
   ],
   "source": [
    "num1 = 5\n",
    "num2 = 0\n",
    "\n",
    "try:\n",
    "    num1 / num2\n",
    "except ZeroDivisionError as e:\n",
    "    print('Sifir ile bolme mumkun degil!')\n",
    "    print(e)\n",
    "    print(ZeroDivisionError)\n",
    "except TypeError:\n",
    "    print('Data tipinde bir sorun var!')\n",
    "except:\n",
    "    print('Birseyler yanlis gidiyor!')\n"
   ]
  },
  {
   "cell_type": "code",
   "execution_count": 24,
   "metadata": {},
   "outputs": [
    {
     "name": "stdout",
     "output_type": "stream",
     "text": [
      "0\n",
      "Exception yok, hersey guzel\n",
      "Ben her zaman calisirim\n"
     ]
    }
   ],
   "source": [
    "try:\n",
    "    print(num2)\n",
    "except:\n",
    "    print('Something is wrong!')\n",
    "else:\n",
    "    print('Exception yok, hersey guzel')\n",
    "finally:\n",
    "    print('Ben her zaman calisirim')"
   ]
  },
  {
   "attachments": {},
   "cell_type": "markdown",
   "metadata": {},
   "source": [
    "give an example to use else block inside try - except\n",
    "\n",
    "Here's an example that demonstrates the use of the else block inside a try-except statement:"
   ]
  },
  {
   "cell_type": "code",
   "execution_count": 25,
   "metadata": {},
   "outputs": [
    {
     "name": "stdout",
     "output_type": "stream",
     "text": [
      "The result of the division is: 2.5\n"
     ]
    }
   ],
   "source": [
    "try:\n",
    "    numerator = 10\n",
    "    denominator = int(input(\"Enter the denominator: \"))\n",
    "    result = numerator / denominator\n",
    "except ValueError:\n",
    "    print(\"Invalid input. Please enter a valid integer.\")\n",
    "except ZeroDivisionError:\n",
    "    print(\"Error: Division by zero is not allowed.\")\n",
    "else:\n",
    "    print(f\"The result of the division is: {result}\")"
   ]
  },
  {
   "cell_type": "markdown",
   "metadata": {},
   "source": [
    "In this example, the try block attempts to perform a division operation. If any exception occurs, such as a ValueError or ZeroDivisionError, the corresponding except block will handle it and execute the appropriate code. However, if no exception is raised, meaning the division operation was successful, the code inside the else block will be executed, printing the result of the division."
   ]
  },
  {
   "attachments": {},
   "cell_type": "markdown",
   "metadata": {},
   "source": [
    "explain why you use else instead of finally above code?\n",
    "\n",
    "In the given example, the else block is used instead of the finally block for a specific reason.\n",
    "\n",
    "The purpose of the finally block is to specify code that must be executed regardless of whether an exception occurred or not. It is typically used to perform cleanup operations, such as closing files or releasing resources, to ensure that they are always executed, even if an exception is raised.\n",
    "\n",
    "In the context of the code provided, the else block serves a different purpose. It is executed only if no exception occurs within the try block. It provides a way to differentiate between two different scenarios: one where an exception is raised and caught, and another where the code within the try block executes successfully without any exceptions.\n",
    "\n",
    "Using the else block allows you to specify code that should only run when the try block completes successfully. In this case, it prints the result of the division operation. If the finally block were used instead, it would always execute, regardless of whether an exception occurred or not, and wouldn't be able to differentiate between the two scenarios.\n",
    "\n",
    "So, in summary, the else block in the given example is used to define code that is executed when the try block completes without any exceptions, while the finally block is typically used for code that should be executed regardless of exceptions."
   ]
  },
  {
   "cell_type": "code",
   "execution_count": 27,
   "metadata": {},
   "outputs": [
    {
     "ename": "TypeError",
     "evalue": "unsupported operand type(s) for ** or pow(): 'str' and 'int'",
     "output_type": "error",
     "traceback": [
      "\u001b[1;31m---------------------------------------------------------------------------\u001b[0m",
      "\u001b[1;31mTypeError\u001b[0m                                 Traceback (most recent call last)",
      "\u001b[1;32mc:\\Users\\stefa\\Documents\\clarusway-full-stack-tr-13-22\\django\\class-notes\\005_Python_Exception_Handling_Decorators_Libraries,_pip\\lesson5.ipynb Cell 10\u001b[0m in \u001b[0;36m<cell line: 10>\u001b[1;34m()\u001b[0m\n\u001b[0;32m      <a href='vscode-notebook-cell:/c%3A/Users/stefa/Documents/clarusway-full-stack-tr-13-22/django/class-notes/005_Python_Exception_Handling_Decorators_Libraries%2C_pip/lesson5.ipynb#X21sZmlsZQ%3D%3D?line=6'>7</a>\u001b[0m     \u001b[39melse\u001b[39;00m:\n\u001b[0;32m      <a href='vscode-notebook-cell:/c%3A/Users/stefa/Documents/clarusway-full-stack-tr-13-22/django/class-notes/005_Python_Exception_Handling_Decorators_Libraries%2C_pip/lesson5.ipynb#X21sZmlsZQ%3D%3D?line=7'>8</a>\u001b[0m         \u001b[39mprint\u001b[39m(\u001b[39mf\u001b[39m\u001b[39m\"\u001b[39m\u001b[39mYour BMI= \u001b[39m\u001b[39m{\u001b[39;00mbmi\u001b[39m}\u001b[39;00m\u001b[39m. You are obese.\u001b[39m\u001b[39m\"\u001b[39m)\n\u001b[1;32m---> <a href='vscode-notebook-cell:/c%3A/Users/stefa/Documents/clarusway-full-stack-tr-13-22/django/class-notes/005_Python_Exception_Handling_Decorators_Libraries%2C_pip/lesson5.ipynb#X21sZmlsZQ%3D%3D?line=9'>10</a>\u001b[0m bmi_calc(\u001b[39m'\u001b[39;49m\u001b[39mhello\u001b[39;49m\u001b[39m'\u001b[39;49m, \u001b[39m105\u001b[39;49m)\n",
      "\u001b[1;32mc:\\Users\\stefa\\Documents\\clarusway-full-stack-tr-13-22\\django\\class-notes\\005_Python_Exception_Handling_Decorators_Libraries,_pip\\lesson5.ipynb Cell 10\u001b[0m in \u001b[0;36mbmi_calc\u001b[1;34m(height, weight)\u001b[0m\n\u001b[0;32m      <a href='vscode-notebook-cell:/c%3A/Users/stefa/Documents/clarusway-full-stack-tr-13-22/django/class-notes/005_Python_Exception_Handling_Decorators_Libraries%2C_pip/lesson5.ipynb#X21sZmlsZQ%3D%3D?line=0'>1</a>\u001b[0m \u001b[39mdef\u001b[39;00m \u001b[39mbmi_calc\u001b[39m(height, weight):\n\u001b[1;32m----> <a href='vscode-notebook-cell:/c%3A/Users/stefa/Documents/clarusway-full-stack-tr-13-22/django/class-notes/005_Python_Exception_Handling_Decorators_Libraries%2C_pip/lesson5.ipynb#X21sZmlsZQ%3D%3D?line=1'>2</a>\u001b[0m     bmi \u001b[39m=\u001b[39m (weight \u001b[39m/\u001b[39m (height \u001b[39m*\u001b[39;49m\u001b[39m*\u001b[39;49m \u001b[39m2\u001b[39;49m))\n\u001b[0;32m      <a href='vscode-notebook-cell:/c%3A/Users/stefa/Documents/clarusway-full-stack-tr-13-22/django/class-notes/005_Python_Exception_Handling_Decorators_Libraries%2C_pip/lesson5.ipynb#X21sZmlsZQ%3D%3D?line=2'>3</a>\u001b[0m     \u001b[39mif\u001b[39;00m bmi \u001b[39m<\u001b[39m \u001b[39m25\u001b[39m:\n\u001b[0;32m      <a href='vscode-notebook-cell:/c%3A/Users/stefa/Documents/clarusway-full-stack-tr-13-22/django/class-notes/005_Python_Exception_Handling_Decorators_Libraries%2C_pip/lesson5.ipynb#X21sZmlsZQ%3D%3D?line=3'>4</a>\u001b[0m         \u001b[39mprint\u001b[39m(\u001b[39mf\u001b[39m\u001b[39m\"\u001b[39m\u001b[39mYour BMI= \u001b[39m\u001b[39m{\u001b[39;00mbmi\u001b[39m}\u001b[39;00m\u001b[39m. You are underweight.\u001b[39m\u001b[39m\"\u001b[39m)\n",
      "\u001b[1;31mTypeError\u001b[0m: unsupported operand type(s) for ** or pow(): 'str' and 'int'"
     ]
    }
   ],
   "source": [
    "def bmi_calc(height, weight):\n",
    "    bmi = (weight / (height ** 2))\n",
    "    if bmi < 25:\n",
    "        print(f\"Your BMI= {bmi}. You are underweight.\")\n",
    "    elif bmi < 30:\n",
    "        print(f\"Your BMI= {bmi}. You are overweight.\")\n",
    "    else:\n",
    "        print(f\"Your BMI= {bmi}. You are obese.\")\n",
    "\n",
    "bmi_calc('hello', 105)"
   ]
  },
  {
   "cell_type": "code",
   "execution_count": 28,
   "metadata": {},
   "outputs": [
    {
     "data": {
      "text/plain": [
       "-5.0"
      ]
     },
     "execution_count": 28,
     "metadata": {},
     "output_type": "execute_result"
    }
   ],
   "source": [
    "5 / -1"
   ]
  },
  {
   "cell_type": "code",
   "execution_count": 29,
   "metadata": {},
   "outputs": [
    {
     "data": {
      "text/plain": [
       "-5.0"
      ]
     },
     "execution_count": 29,
     "metadata": {},
     "output_type": "execute_result"
    }
   ],
   "source": [
    "num3 = 5\n",
    "num4 = -1\n",
    "\n",
    "\n",
    "num3 / num4 "
   ]
  },
  {
   "attachments": {},
   "cell_type": "markdown",
   "metadata": {},
   "source": [
    "### Raise an Exception"
   ]
  },
  {
   "cell_type": "code",
   "execution_count": 32,
   "metadata": {},
   "outputs": [],
   "source": [
    "num3 = 5\n",
    "num4 = -1"
   ]
  },
  {
   "cell_type": "code",
   "execution_count": 31,
   "metadata": {},
   "outputs": [
    {
     "ename": "Exception",
     "evalue": "Sayi pozitif olmali",
     "output_type": "error",
     "traceback": [
      "\u001b[1;31m---------------------------------------------------------------------------\u001b[0m",
      "\u001b[1;31mException\u001b[0m                                 Traceback (most recent call last)",
      "\u001b[1;32mc:\\Users\\stefa\\Documents\\clarusway-full-stack-tr-13-22\\django\\class-notes\\005_Python_Exception_Handling_Decorators_Libraries,_pip\\lesson5.ipynb Cell 15\u001b[0m in \u001b[0;36m<cell line: 1>\u001b[1;34m()\u001b[0m\n\u001b[0;32m      <a href='vscode-notebook-cell:/c%3A/Users/stefa/Documents/clarusway-full-stack-tr-13-22/django/class-notes/005_Python_Exception_Handling_Decorators_Libraries%2C_pip/lesson5.ipynb#X31sZmlsZQ%3D%3D?line=0'>1</a>\u001b[0m \u001b[39mif\u001b[39;00m num4 \u001b[39m<\u001b[39m \u001b[39m0\u001b[39m:\n\u001b[1;32m----> <a href='vscode-notebook-cell:/c%3A/Users/stefa/Documents/clarusway-full-stack-tr-13-22/django/class-notes/005_Python_Exception_Handling_Decorators_Libraries%2C_pip/lesson5.ipynb#X31sZmlsZQ%3D%3D?line=1'>2</a>\u001b[0m     \u001b[39mraise\u001b[39;00m \u001b[39mException\u001b[39;00m(\u001b[39m'\u001b[39m\u001b[39mSayi pozitif olmali\u001b[39m\u001b[39m'\u001b[39m)\n",
      "\u001b[1;31mException\u001b[0m: Sayi pozitif olmali"
     ]
    }
   ],
   "source": [
    "if num4 < 0:\n",
    "    raise Exception('Sayi pozitif olmali')"
   ]
  },
  {
   "cell_type": "code",
   "execution_count": 33,
   "metadata": {},
   "outputs": [
    {
     "ename": "TypeError",
     "evalue": "Buraya bir sayi girmelisin",
     "output_type": "error",
     "traceback": [
      "\u001b[1;31m---------------------------------------------------------------------------\u001b[0m",
      "\u001b[1;31mTypeError\u001b[0m                                 Traceback (most recent call last)",
      "\u001b[1;32mc:\\Users\\stefa\\Documents\\clarusway-full-stack-tr-13-22\\django\\class-notes\\005_Python_Exception_Handling_Decorators_Libraries,_pip\\lesson5.ipynb Cell 16\u001b[0m in \u001b[0;36m<cell line: 3>\u001b[1;34m()\u001b[0m\n\u001b[0;32m      <a href='vscode-notebook-cell:/c%3A/Users/stefa/Documents/clarusway-full-stack-tr-13-22/django/class-notes/005_Python_Exception_Handling_Decorators_Libraries%2C_pip/lesson5.ipynb#X32sZmlsZQ%3D%3D?line=0'>1</a>\u001b[0m var1 \u001b[39m=\u001b[39m \u001b[39m'\u001b[39m\u001b[39mstring\u001b[39m\u001b[39m'\u001b[39m\n\u001b[0;32m      <a href='vscode-notebook-cell:/c%3A/Users/stefa/Documents/clarusway-full-stack-tr-13-22/django/class-notes/005_Python_Exception_Handling_Decorators_Libraries%2C_pip/lesson5.ipynb#X32sZmlsZQ%3D%3D?line=2'>3</a>\u001b[0m \u001b[39mif\u001b[39;00m \u001b[39mnot\u001b[39;00m \u001b[39mtype\u001b[39m(var1) \u001b[39mis\u001b[39;00m \u001b[39mint\u001b[39m:\n\u001b[1;32m----> <a href='vscode-notebook-cell:/c%3A/Users/stefa/Documents/clarusway-full-stack-tr-13-22/django/class-notes/005_Python_Exception_Handling_Decorators_Libraries%2C_pip/lesson5.ipynb#X32sZmlsZQ%3D%3D?line=3'>4</a>\u001b[0m     \u001b[39mraise\u001b[39;00m \u001b[39mTypeError\u001b[39;00m(\u001b[39m'\u001b[39m\u001b[39mBuraya bir sayi girmelisin\u001b[39m\u001b[39m'\u001b[39m)\n",
      "\u001b[1;31mTypeError\u001b[0m: Buraya bir sayi girmelisin"
     ]
    }
   ],
   "source": [
    "var1 = 'string'\n",
    "\n",
    "if not type(var1) is int:\n",
    "    raise TypeError('Buraya bir sayi girmelisin')"
   ]
  },
  {
   "attachments": {},
   "cell_type": "markdown",
   "metadata": {},
   "source": [
    "<h3>Decorators</h3>"
   ]
  },
  {
   "cell_type": "code",
   "execution_count": 34,
   "metadata": {},
   "outputs": [],
   "source": [
    "def my_decorator(func):\n",
    "    def wrapper():\n",
    "        # Do something before\n",
    "        result = func()  # or only func()\n",
    "        # Do something after\n",
    "        return result  # or erase this line, with only func() above\n",
    "    return wrapper\n",
    "\n",
    "@my_decorator\n",
    "def func():\n",
    "    pass"
   ]
  },
  {
   "cell_type": "code",
   "execution_count": 42,
   "metadata": {},
   "outputs": [],
   "source": [
    "def my_decorator(func):\n",
    "    def wrapper():\n",
    "        # Do something before\n",
    "        print('---------------')\n",
    "        result = func()  # or only func()\n",
    "        print(result)\n",
    "        # Do something after\n",
    "        print('---------------')\n",
    "        # return result  # or erase this line, with only func() above\n",
    "    return wrapper\n",
    "\n",
    "@my_decorator\n",
    "def func():\n",
    "    return 'Hello'"
   ]
  },
  {
   "cell_type": "code",
   "execution_count": 43,
   "metadata": {},
   "outputs": [
    {
     "name": "stdout",
     "output_type": "stream",
     "text": [
      "---------------\n",
      "Hello\n",
      "---------------\n"
     ]
    }
   ],
   "source": [
    "func()"
   ]
  },
  {
   "cell_type": "code",
   "execution_count": 55,
   "metadata": {},
   "outputs": [],
   "source": [
    "import time\n",
    "\n",
    "\n",
    "def gecen_zaman(benim_fonksiyonum):\n",
    "    def wrapper():\n",
    "        # Do something before\n",
    "        t1 = time.time()\n",
    "        benim_fonksiyonum()\n",
    "        # Do something after\n",
    "        t2 = time.time()\n",
    "        return f'Gecen zaman: {(t2 - t1) * 1000}'\n",
    "    return wrapper\n",
    "\n",
    "\n",
    "@gecen_zaman\n",
    "def big_sum():\n",
    "    num_list = []\n",
    "    for num in (range(0, 1000000)):\n",
    "        num_list.append(num)\n",
    "    print(f'Big sum: {sum(num_list)}')\n",
    "    "
   ]
  },
  {
   "cell_type": "code",
   "execution_count": 56,
   "metadata": {},
   "outputs": [
    {
     "name": "stdout",
     "output_type": "stream",
     "text": [
      "Big sum: 499999500000\n"
     ]
    },
    {
     "data": {
      "text/plain": [
       "'Gecen zaman: 357.7558994293213'"
      ]
     },
     "execution_count": 56,
     "metadata": {},
     "output_type": "execute_result"
    }
   ],
   "source": [
    "big_sum()"
   ]
  },
  {
   "cell_type": "code",
   "execution_count": null,
   "metadata": {},
   "outputs": [],
   "source": [
    "# @login_required\n",
    "# def home_view(request):\n",
    "#     pass"
   ]
  },
  {
   "cell_type": "markdown",
   "metadata": {},
   "source": []
  }
 ],
 "metadata": {
  "kernelspec": {
   "display_name": "Python 3",
   "language": "python",
   "name": "python3"
  },
  "language_info": {
   "codemirror_mode": {
    "name": "ipython",
    "version": 3
   },
   "file_extension": ".py",
   "mimetype": "text/x-python",
   "name": "python",
   "nbconvert_exporter": "python",
   "pygments_lexer": "ipython3",
   "version": "3.10.5"
  },
  "orig_nbformat": 4
 },
 "nbformat": 4,
 "nbformat_minor": 2
}
